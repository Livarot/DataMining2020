{
 "cells": [
  {
   "cell_type": "markdown",
   "metadata": {},
   "source": [
    "# Assignment: Numpy"
   ]
  },
  {
   "cell_type": "markdown",
   "metadata": {},
   "source": [
    "Perform the follwing tasks:\n"
   ]
  },
  {
   "cell_type": "code",
   "execution_count": 2,
   "metadata": {},
   "outputs": [],
   "source": [
    "#1: import the numpy library\n",
    "import numpy as np"
   ]
  },
  {
   "cell_type": "code",
   "execution_count": 3,
   "metadata": {},
   "outputs": [
    {
     "data": {
      "text/plain": [
       "array([[0.93047566, 0.352279  , 0.04284254, 0.19519268, 0.78916612,\n",
       "        0.31795598, 0.00831913, 0.03764657, 0.34008213, 0.86404158],\n",
       "       [0.01542039, 0.48595731, 0.23553435, 0.80437141, 0.93055277,\n",
       "        0.13213293, 0.0328677 , 0.8376611 , 0.50486084, 0.76547556],\n",
       "       [0.62380407, 0.8277718 , 0.7763911 , 0.18129645, 0.50738528,\n",
       "        0.07534691, 0.22587435, 0.17661989, 0.80349954, 0.41870946],\n",
       "       [0.91141455, 0.7142488 , 0.50197687, 0.64822275, 0.07961543,\n",
       "        0.51612026, 0.67638354, 0.07815496, 0.79262276, 0.30878575],\n",
       "       [0.00477245, 0.1115133 , 0.81434838, 0.24060358, 0.96120632,\n",
       "        0.41343545, 0.96088005, 0.0919195 , 0.8306784 , 0.37305669],\n",
       "       [0.43605898, 0.99348697, 0.40063576, 0.21146023, 0.67484731,\n",
       "        0.26981495, 0.47289971, 0.95670146, 0.72265291, 0.33405665],\n",
       "       [0.45696547, 0.13524458, 0.26649378, 0.20970082, 0.66870785,\n",
       "        0.92682802, 0.7362063 , 0.87262015, 0.04838483, 0.31975434],\n",
       "       [0.99254107, 0.31549729, 0.29723302, 0.56271545, 0.25429106,\n",
       "        0.35212074, 0.73681264, 0.83289242, 0.93732797, 0.3082012 ],\n",
       "       [0.37516675, 0.10459254, 0.6789816 , 0.24610735, 0.81295707,\n",
       "        0.09482722, 0.57250658, 0.36929741, 0.4151789 , 0.22318719],\n",
       "       [0.9865286 , 0.38916445, 0.06884164, 0.04056343, 0.63862493,\n",
       "        0.1462608 , 0.689226  , 0.57685871, 0.73692011, 0.63948675]])"
      ]
     },
     "execution_count": 3,
     "metadata": {},
     "output_type": "execute_result"
    }
   ],
   "source": [
    "#2: create a random 10x10 array named A\n",
    "A = np.random.rand(10,10)\n",
    "A"
   ]
  },
  {
   "cell_type": "code",
   "execution_count": 7,
   "metadata": {},
   "outputs": [
    {
     "data": {
      "text/plain": [
       "array([[0.01542039, 0.48595731, 0.23553435, 0.80437141, 0.93055277,\n",
       "        0.13213293, 0.0328677 , 0.8376611 , 0.50486084, 0.76547556],\n",
       "       [0.91141455, 0.7142488 , 0.50197687, 0.64822275, 0.07961543,\n",
       "        0.51612026, 0.67638354, 0.07815496, 0.79262276, 0.30878575],\n",
       "       [0.43605898, 0.99348697, 0.40063576, 0.21146023, 0.67484731,\n",
       "        0.26981495, 0.47289971, 0.95670146, 0.72265291, 0.33405665],\n",
       "       [0.99254107, 0.31549729, 0.29723302, 0.56271545, 0.25429106,\n",
       "        0.35212074, 0.73681264, 0.83289242, 0.93732797, 0.3082012 ],\n",
       "       [0.9865286 , 0.38916445, 0.06884164, 0.04056343, 0.63862493,\n",
       "        0.1462608 , 0.689226  , 0.57685871, 0.73692011, 0.63948675]])"
      ]
     },
     "execution_count": 7,
     "metadata": {},
     "output_type": "execute_result"
    }
   ],
   "source": [
    "#3: return only the odd rows of A\n",
    "A[1::2]"
   ]
  },
  {
   "cell_type": "code",
   "execution_count": 9,
   "metadata": {},
   "outputs": [
    {
     "data": {
      "text/plain": [
       "array([[2.61741045, 1.99391769, 2.00862613, 2.01956129, 1.6318725 ,\n",
       "        2.00687333, 1.67931211, 2.09243965, 1.48746946, 2.44699502],\n",
       "       [1.99391769, 3.36586338, 2.10422099, 1.86730697, 2.20220968,\n",
       "        2.85509106, 2.07329701, 2.40546198, 1.89214214, 2.23419163],\n",
       "       [2.00862613, 2.10422099, 2.87624911, 2.67905869, 2.34693611,\n",
       "        2.80283258, 1.54422968, 2.56437484, 1.93359681, 2.45082846],\n",
       "       [2.01956129, 1.86730697, 2.67905869, 3.47292246, 2.36937256,\n",
       "        2.70877144, 2.01762791, 3.24748937, 1.84476287, 2.65710992],\n",
       "       [1.6318725 , 2.20220968, 2.34693611, 2.36937256, 3.58929536,\n",
       "        2.51747546, 2.25778121, 2.48550918, 2.4584176 , 2.35424217],\n",
       "       [2.00687333, 2.85509106, 2.80283258, 2.70877144, 2.51747546,\n",
       "        3.68334012, 2.51085591, 3.1765254 , 2.16441305, 2.94738871],\n",
       "       [1.67931211, 2.07329701, 1.54422968, 2.01762791, 2.25778121,\n",
       "        2.51085591, 3.05633185, 2.60298669, 1.88484916, 2.34383153],\n",
       "       [2.09243965, 2.40546198, 2.56437484, 3.24748937, 2.48550918,\n",
       "        3.1765254 , 2.60298669, 3.88849977, 2.17315003, 3.23525432],\n",
       "       [1.48746946, 1.89214214, 1.93359681, 1.84476287, 2.4584176 ,\n",
       "        2.16441305, 1.88484916, 2.17315003, 2.02949633, 2.05688352],\n",
       "       [2.44699502, 2.23419163, 2.45082846, 2.65710992, 2.35424217,\n",
       "        2.94738871, 2.34383153, 3.23525432, 2.05688352, 3.32009923]])"
      ]
     },
     "execution_count": 9,
     "metadata": {},
     "output_type": "execute_result"
    }
   ],
   "source": [
    "#4: perform a matrix multiplication of A with it's transposed\n",
    "transposedA = A.T\n",
    "np.matmul(A, transposedA)"
   ]
  },
  {
   "cell_type": "code",
   "execution_count": 12,
   "metadata": {},
   "outputs": [
    {
     "data": {
      "text/plain": [
       "matrix([[ 0.73486318, -0.58449853, -0.30956976,  0.0570708 , -0.56365843,\n",
       "          0.22514819, -0.20690846,  0.47000953,  0.92250285, -0.35193849],\n",
       "        [-0.13925898, -0.00527898, -0.48309881,  0.99445133, -0.33073383,\n",
       "          1.06001703, -0.23537494, -1.20801754,  0.18944931,  0.30358847],\n",
       "        [-1.27668618,  0.48275156,  2.48337204, -0.30175069, -0.48059663,\n",
       "         -1.83080069,  1.11040233, -0.28264584,  0.06716612,  0.46112996],\n",
       "        [ 0.21937511,  0.52678048, -1.28520362,  1.07221194, -0.30639742,\n",
       "          0.20577775, -0.57343781, -0.00652565,  1.01475151, -0.59624467],\n",
       "        [ 1.93902127, -0.84883303, -2.17869463, -0.2199306 ,  0.49956498,\n",
       "          2.15040405, -1.13776059,  0.40615627,  1.38866418, -1.59739261],\n",
       "        [ 1.14777048, -0.63462372, -0.03269719, -0.51357095,  0.82727594,\n",
       "          0.58176703,  0.52697246,  1.00786648, -1.25450177, -1.61967559],\n",
       "        [-1.45835762,  0.42802315, -0.47258991,  1.28665252, -0.20049734,\n",
       "         -0.57748186,  0.25259634, -1.59553581,  0.50736847,  2.03048134],\n",
       "        [-0.77437705,  0.39875658,  0.89149772, -0.71555182, -0.44621882,\n",
       "         -0.44693686,  0.66609972,  0.43821406, -0.27227542,  0.37532971],\n",
       "        [ 1.12692732, -0.63869211, -0.25176269, -1.11680115,  1.28753623,\n",
       "          0.94900414, -0.90303857,  1.94109023, -1.19689173, -1.36711392],\n",
       "        [-2.1526181 ,  1.72735111,  2.76426399,  0.15405002, -0.41120827,\n",
       "         -3.1569762 ,  1.56249072, -1.5077122 , -1.63185968,  2.92422494]])"
      ]
     },
     "execution_count": 12,
     "metadata": {},
     "output_type": "execute_result"
    }
   ],
   "source": [
    "#5: compute the matrix inverse of A\n",
    "inverseA = np.matrix(A).I\n",
    "inverseA"
   ]
  },
  {
   "cell_type": "code",
   "execution_count": 15,
   "metadata": {},
   "outputs": [
    {
     "data": {
      "text/plain": [
       "array([[0.46523783, 0.352279  , 0.04284254, 0.19519268, 0.39458306,\n",
       "        0.31795598, 0.00831913, 0.03764657, 0.34008213, 0.43202079],\n",
       "       [0.01542039, 0.48595731, 0.23553435, 0.40218571, 0.46527639,\n",
       "        0.13213293, 0.0328677 , 0.41883055, 0.25243042, 0.38273778],\n",
       "       [0.31190203, 0.4138859 , 0.38819555, 0.18129645, 0.25369264,\n",
       "        0.07534691, 0.22587435, 0.17661989, 0.40174977, 0.41870946],\n",
       "       [0.45570728, 0.3571244 , 0.25098843, 0.32411138, 0.07961543,\n",
       "        0.25806013, 0.33819177, 0.07815496, 0.39631138, 0.30878575],\n",
       "       [0.00477245, 0.1115133 , 0.40717419, 0.24060358, 0.48060316,\n",
       "        0.41343545, 0.48044002, 0.0919195 , 0.4153392 , 0.37305669],\n",
       "       [0.43605898, 0.49674348, 0.40063576, 0.21146023, 0.33742366,\n",
       "        0.26981495, 0.47289971, 0.47835073, 0.36132645, 0.33405665],\n",
       "       [0.45696547, 0.13524458, 0.26649378, 0.20970082, 0.33435392,\n",
       "        0.46341401, 0.36810315, 0.43631008, 0.04838483, 0.31975434],\n",
       "       [0.49627054, 0.31549729, 0.29723302, 0.28135772, 0.25429106,\n",
       "        0.35212074, 0.36840632, 0.41644621, 0.46866398, 0.3082012 ],\n",
       "       [0.37516675, 0.10459254, 0.3394908 , 0.24610735, 0.40647853,\n",
       "        0.09482722, 0.28625329, 0.36929741, 0.4151789 , 0.22318719],\n",
       "       [0.4932643 , 0.38916445, 0.06884164, 0.04056343, 0.31931247,\n",
       "        0.1462608 , 0.344613  , 0.28842935, 0.36846005, 0.31974338]])"
      ]
     },
     "execution_count": 15,
     "metadata": {},
     "output_type": "execute_result"
    }
   ],
   "source": [
    "#6: divide all entries of A which are lager than 0.5 by 2 (hint: use where() )\n",
    "np.where(A > 0.5, A/2, A )"
   ]
  },
  {
   "cell_type": "code",
   "execution_count": 15,
   "metadata": {},
   "outputs": [],
   "source": [
    "#7: compute the singular value decomposition of A\n",
    "#7.1: plot the singular values\n",
    "#7.2: reconstruct A' by using only the top 5 singular values"
   ]
  },
  {
   "cell_type": "code",
   "execution_count": 19,
   "metadata": {},
   "outputs": [
    {
     "data": {
      "text/plain": [
       "array([4.91536716, 1.42107551, 1.31057172, 1.23262466, 1.07308441,\n",
       "       0.76987568, 0.70282075, 0.43767224, 0.20262751, 0.10707827])"
      ]
     },
     "execution_count": 19,
     "metadata": {},
     "output_type": "execute_result"
    }
   ],
   "source": [
    "u, s, vh = np.linalg.svd(A)\n",
    "s"
   ]
  },
  {
   "cell_type": "code",
   "execution_count": 20,
   "metadata": {},
   "outputs": [
    {
     "data": {
      "text/plain": [
       "[<matplotlib.lines.Line2D at 0x7f5dab515ed0>]"
      ]
     },
     "execution_count": 20,
     "metadata": {},
     "output_type": "execute_result"
    },
    {
     "data": {
      "image/png": "[encoded data removed]",
      "text/plain": [
       "<Figure size 432x288 with 1 Axes>"
      ]
     },
     "metadata": {
      "needs_background": "light"
     },
     "output_type": "display_data"
    }
   ],
   "source": [
    "import matplotlib.pyplot as plt\n",
    "plt.plot(s)"
   ]
  },
  {
   "cell_type": "code",
   "execution_count": 25,
   "metadata": {},
   "outputs": [
    {
     "name": "stdout",
     "output_type": "stream",
     "text": [
      "[[ 0.93667438  0.31124019  0.01860579  0.14302751  0.78789488  0.19670627\n",
      "   0.06250765  0.0808016   0.37604822  0.88586405]\n",
      " [ 0.05619887  0.62419749  0.28019234  0.48873644  1.00496929  0.10840854\n",
      "   0.02973648  0.90670759  0.45783911  0.67677681]\n",
      " [ 0.56979216  0.75069806  0.61908841  0.36872511  0.50267349  0.01526054\n",
      "   0.30904167  0.11674564  0.89941141  0.45235222]\n",
      " [ 0.97674474  0.64224099  0.50977733  0.33079644  0.13997761  0.2936496\n",
      "   0.68657289  0.23807349  0.91396483  0.24499204]\n",
      " [ 0.08954716  0.1291163   0.94040519  0.23087134  0.98862163  0.38359701\n",
      "   0.91888355  0.12444519  0.70592641  0.31135455]\n",
      " [ 0.44129153  0.78041811  0.43182046  0.54749449  0.58830333  0.25460972\n",
      "   0.42993944  0.92894174  0.76312106  0.41720819]\n",
      " [ 0.45720554 -0.0279997   0.13954319  0.24491742  0.68653049  0.70724919\n",
      "   0.81674336  0.9205228   0.21396194  0.32640185]\n",
      " [ 0.95814094  0.58554812  0.32307578  0.41737199  0.27533697  0.50390512\n",
      "   0.77269869  0.77333506  0.76193884  0.29754876]\n",
      " [ 0.22028361  0.1961795   0.55264588  0.22761625  0.74260243  0.30679302\n",
      "   0.59352776  0.2795785   0.51203678  0.34150569]\n",
      " [ 1.00242502  0.42216824  0.20677177  0.28962267  0.60236834  0.42966324\n",
      "   0.52857624  0.47498365  0.59736399  0.61716073]]\n"
     ]
    }
   ],
   "source": [
    "# https://machinelearningmastery.com/singular-value-decomposition-for-machine-learning/\n",
    "\n",
    "# create m x n Sigma matrix\n",
    "Sigma = np.zeros((A.shape[0], A.shape[1]))\n",
    "# populate Sigma with n x n diagonal matrix\n",
    "Sigma[:A.shape[0], :A.shape[0]] = np.diag(s)\n",
    "# select the top 5 singular values to reconstruct with\n",
    "n_elements = 5\n",
    "Sigma = Sigma[:, :n_elements]\n",
    "vh = vh[:n_elements, :]\n",
    "# reconstruct\n",
    "B = u.dot(Sigma.dot(vh))\n",
    "print(B)"
   ]
  },
  {
   "cell_type": "code",
   "execution_count": null,
   "metadata": {},
   "outputs": [],
   "source": []
  }
 ],
 "metadata": {
  "kernelspec": {
   "display_name": "Python 3",
   "language": "python",
   "name": "python3"
  },
  "language_info": {
   "codemirror_mode": {
    "name": "ipython",
    "version": 3
   },
   "file_extension": ".py",
   "mimetype": "text/x-python",
   "name": "python",
   "nbconvert_exporter": "python",
   "pygments_lexer": "ipython3",
   "version": "3.7.6"
  }
 },
 "nbformat": 4,
 "nbformat_minor": 4
}
